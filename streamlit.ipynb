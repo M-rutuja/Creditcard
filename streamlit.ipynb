{
 "cells": [
  {
   "cell_type": "code",
   "execution_count": 3,
   "id": "db83dfb7-876a-425e-96df-9e759ebf8699",
   "metadata": {},
   "outputs": [],
   "source": [
    "import streamlit as st\n",
    "import numpy as np\n",
    "import joblib\n",
    "st.title(\"Fraud Detection App\")\n",
    "#Interface\n",
    "st.markdown('Input Features of the Transaction')\n",
    "Input_Sender_ID = st.number_input('Input Sender ID')\n",
    "Input_Sender_ID= st.number_input('Input_Receiver_ID')\n",
    "\n",
    "\n",
    "#Predict button\n",
    "if st.button('Predict Fraud Detection'):\n",
    "    model = joblib.load('CreaditCard.pkl')\n",
    "    X = np.array([Input_Sender_ID,Input_Sender_ID])\n",
    "    predictions = model.predict(features)\n",
    "    #if predictions == 1:\n",
    "     #   return {\"fraudulent\"}\n",
    "   # elif predictions == 0:\n",
    "    #    return {\"not fraudulent\"}\n",
    "\n",
    "def check_fraud(transaction_amount):\n",
    "    if transaction_amount > 1000:\n",
    "        return {\"fraudulent\"}\n",
    "    else:\n",
    "        return {\"valid\"}\n",
    "\n",
    "# Example usage\n",
    "#amount = 1500\n",
    "#result = check_fraud(amount)\n",
    "#print(result)  # Output: {\"fraudulent\"}\n"
   ]
  },
  {
   "cell_type": "code",
   "execution_count": null,
   "id": "5be8beae-853f-486a-b535-07453de5dcc9",
   "metadata": {},
   "outputs": [],
   "source": []
  }
 ],
 "metadata": {
  "kernelspec": {
   "display_name": "Python 3 (ipykernel)",
   "language": "python",
   "name": "python3"
  },
  "language_info": {
   "codemirror_mode": {
    "name": "ipython",
    "version": 3
   },
   "file_extension": ".py",
   "mimetype": "text/x-python",
   "name": "python",
   "nbconvert_exporter": "python",
   "pygments_lexer": "ipython3",
   "version": "3.11.5"
  }
 },
 "nbformat": 4,
 "nbformat_minor": 5
}
